{
 "cells": [
  {
   "cell_type": "markdown",
   "metadata": {},
   "source": [
    "# **Image Caption Generator**\n"
   ]
  },
  {
   "cell_type": "markdown",
   "metadata": {},
   "source": [
    "### Import Necessary libraries\n"
   ]
  },
  {
   "cell_type": "code",
   "execution_count": 36,
   "metadata": {},
   "outputs": [],
   "source": [
    "import tensorflow as tf\n",
    "import pandas as pd\n",
    "import numpy as np\n",
    "import seaborn as sns\n",
    "import matplotlib.pyplot as plt\n",
    "from keras.preprocessing.image import ImageDataGenerator\n",
    "from PIL import Image \n",
    "import cv2\n",
    "from nltk.corpus import stopwords\n",
    "from nltk.stem.porter import PorterStemmer\n",
    "import re\n",
    "\n",
    "path_img='../dataset/Flicker8k_Dataset/'\n",
    "s_words = stopwords.words('english')\n"
   ]
  },
  {
   "cell_type": "markdown",
   "metadata": {},
   "source": [
    "### Extract and clean captions from file\n"
   ]
  },
  {
   "cell_type": "code",
   "execution_count": 37,
   "metadata": {},
   "outputs": [],
   "source": [
    "def clean_img(x):\n",
    "    return str(x).split(\"#\")[0]"
   ]
  },
  {
   "cell_type": "code",
   "execution_count": 38,
   "metadata": {},
   "outputs": [],
   "source": [
    "df = pd.read_csv('../dataset/flickr8k_text/Flickr8k.token.txt',\n",
    "                 delimiter='\\t', names=['image', 'caption'])\n",
    "\n",
    "df['image']=df['image'].apply(clean_img)\n"
   ]
  },
  {
   "cell_type": "code",
   "execution_count": 39,
   "metadata": {},
   "outputs": [],
   "source": [
    "def to_dict():\n",
    "    cap_dict={}\n",
    "    for i in range(len(df)):\n",
    "        img=df.image[i]\n",
    "        cap=df.caption[i]\n",
    "        if img not in cap_dict:\n",
    "            cap_dict[img]=[cap]\n",
    "        else:\n",
    "            cap_dict[img].append(cap)\n",
    "    return cap_dict\n",
    "\n"
   ]
  },
  {
   "cell_type": "code",
   "execution_count": 40,
   "metadata": {},
   "outputs": [],
   "source": [
    "def clean_cap(dic):\n",
    "    ps=PorterStemmer()\n",
    "    for i in list(dic.keys()):\n",
    "        corpus=[]\n",
    "        # print(i)\n",
    "        for j in dic[i]:\n",
    "            # print(j)\n",
    "            review = re.sub(\"[^a-z A-Z]\", \" \", j)\n",
    "            review = review.lower()\n",
    "            review = review.split()\n",
    "            review = [ps.stem(x) for x in review if len(x)>1]\n",
    "            review = \" \".join(review)\n",
    "            corpus.append(review)\n",
    "        dic[i]=corpus\n",
    "    return dic\n",
    "\n",
    "\n",
    "\n",
    "    "
   ]
  },
  {
   "cell_type": "code",
   "execution_count": 41,
   "metadata": {},
   "outputs": [],
   "source": [
    "def extract_voc(dic):\n",
    "    vocab=set()\n",
    "    for i in list(dic.keys()):\n",
    "        [vocab.update(j.split()) for j in dic[i]]\n",
    "    return vocab    \n"
   ]
  },
  {
   "cell_type": "code",
   "execution_count": 42,
   "metadata": {},
   "outputs": [],
   "source": [
    "def save_dic_to_text(dic, path):\n",
    "    lines = list()\n",
    "    for img_name, caption_list in dic.items():\n",
    "        for caption in caption_list:\n",
    "            lines.append(img_name + '\\t' + caption)\n",
    "    data = '\\n'.join(lines)\n",
    "    file = open(path, 'w')\n",
    "    file.write(data)\n",
    "    file.close()\n"
   ]
  },
  {
   "cell_type": "code",
   "execution_count": 43,
   "metadata": {},
   "outputs": [],
   "source": [
    "cap_dict = to_dict()\n",
    "cap_dict=clean_cap(cap_dict)\n",
    "vocab=extract_voc(cap_dict)\n",
    "save_dic_to_text(cap_dict, 'cleaned_descriptions.txt')\n"
   ]
  },
  {
   "cell_type": "markdown",
   "metadata": {},
   "source": [
    "### Feature Extraction "
   ]
  },
  {
   "cell_type": "code",
   "execution_count": 44,
   "metadata": {},
   "outputs": [],
   "source": [
    "def extract_feature(path):\n",
    "    "
   ]
  },
  {
   "cell_type": "code",
   "execution_count": null,
   "metadata": {},
   "outputs": [],
   "source": []
  }
 ],
 "metadata": {
  "kernelspec": {
   "display_name": "Python 3.9.15 ('tf')",
   "language": "python",
   "name": "python3"
  },
  "language_info": {
   "codemirror_mode": {
    "name": "ipython",
    "version": 3
   },
   "file_extension": ".py",
   "mimetype": "text/x-python",
   "name": "python",
   "nbconvert_exporter": "python",
   "pygments_lexer": "ipython3",
   "version": "3.9.15"
  },
  "orig_nbformat": 4,
  "vscode": {
   "interpreter": {
    "hash": "0c4d9a0e5ba6242edd2fd2e769e4c5824f15741c73839fea08f11b8693327fde"
   }
  }
 },
 "nbformat": 4,
 "nbformat_minor": 2
}
